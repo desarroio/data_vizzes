{
 "cells": [
  {
   "cell_type": "code",
   "execution_count": 1,
   "id": "200b974b",
   "metadata": {},
   "outputs": [],
   "source": [
    "import pandas as pd\n",
    "import re\n",
    "import geopandas as gpd\n",
    "import altair as alt\n",
    "import GOSTnets as gn\n",
    "import networkx as nx\n",
    "import osmnx as ox"
   ]
  },
  {
   "cell_type": "code",
   "execution_count": 2,
   "id": "3de8426f",
   "metadata": {},
   "outputs": [
    {
     "data": {
      "text/plain": [
       "DataTransformerRegistry.enable('default')"
      ]
     },
     "execution_count": 2,
     "metadata": {},
     "output_type": "execute_result"
    }
   ],
   "source": [
    "pd.set_option('display.max_columns', None)\n",
    "pd.set_option('display.expand_frame_repr', False)\n",
    "pd.set_option('max_colwidth', None)\n",
    "\n",
    "alt.data_transformers.disable_max_rows()\n"
   ]
  },
  {
   "cell_type": "code",
   "execution_count": 3,
   "id": "35596ac7",
   "metadata": {},
   "outputs": [],
   "source": [
    "def clean_texts(raw_texts):\n",
    "    \n",
    "\n",
    "    clean_texts = []\n",
    "    for text in raw_texts:\n",
    "        try:\n",
    "            if type(text) == bytes:\n",
    "                text = text.decode(\"utf-8\")\n",
    "            text = text.lower()\n",
    "            clean_text = text.replace(\"á\", \"a\").replace(\"é\", \"e\").replace(\"í\",\n",
    "                              \"i\").replace(\"ó\", \"o\").replace(\"ú\", \"u\").replace(\"é\", \"e\").replace(\"í\",\n",
    "                              \"i\").replace(\"ó\", \"o\").replace(\"ú\", \"u\")\n",
    "            clean_texts.append(clean_text)\n",
    "        except AttributeError:\n",
    "            print(\"ERROR CLEANING\")\n",
    "            print(text)\n",
    "            continue\n",
    "        except UnicodeDecodeError:\n",
    "            print(\"Unicode Error, Skip\")\n",
    "            continue\n",
    "    cleaned_text = ''.join(clean_texts)\n",
    "    cleaned_text = cleaned_text.replace('\\n ', '\\n')\n",
    "    \n",
    "    \n",
    "\n",
    "    return cleaned_text\n",
    "\n",
    "\n",
    "def set_nombres(csv_file):\n",
    "    nombres = pd.read_csv(csv_file, encoding = 'latin-1')\n",
    "    nombres['nombre_spl'] = nombres['nombre'].str.split(' ')\n",
    "    nombres['primer_nombre'] = nombres['nombre_spl'].apply(lambda x: \n",
    "        x[0].lower())\n",
    "    nombres = nombres[:2000]\n",
    "    \n",
    "    set_nombres = set(nombres['primer_nombre'])\n",
    "    return set_nombres\n",
    "\n",
    "def pertenece_nombres(xx, set_hombres, set_mujeres):\n",
    "    xx = set(xx)\n",
    "    a = xx.intersection(set_hombres)\n",
    "    b = xx.intersection(set_mujeres)\n",
    "    \n",
    "    if len(a) > 0:\n",
    "        fin = 'm'\n",
    "    elif len(b) > 0:\n",
    "        fin = 'f'\n",
    "    else:\n",
    "        fin = 'x'\n",
    "    return fin\n"
   ]
  },
  {
   "cell_type": "code",
   "execution_count": 4,
   "id": "9f74b466",
   "metadata": {},
   "outputs": [],
   "source": [
    "h_add = {'blasco', 'capitan', 'faucett', 'blasco', 'vasco', 'frans', 'portinari', 'tasso', 'derain', 'vasari', \n",
    "        'morisot', 'moreli', 'dominico', 'holbein', 'vittore', 'regoyos', 'ucello', 'tiziano', 'seurat', 'boccioni', \n",
    "        'tintoretto', 'cezzane', 'zurbaran', 'donatello', 'degas', 'matisse', 'barsato', 'cezzane', 'giotto', 'murillo',\n",
    "        'rembrand', 'velasquez', 'rubens', 'conti', 'bellini', 'garcilazo', 'leonidas', 'comandante', 'tagle', 'oblitas',\n",
    "        'lope', 'calderon', 'euripides', 'verne', 'cacique', 'catari', 'padre', 'dean', 'manrique', 'manrique',\n",
    "        'huamampoma', 'pio', 'vallejo', 'villar', 'bolognesi', 'willian', 'william', 'kennedy', 'howard', \n",
    "        'bosco', 'poma', 'willy', 'tiziano', 'anton', 'charles', 'jhon', 'john', 'thomas', 'billinghurst',\n",
    "        'gutarra', 'teniente', 'tte.', 'augusto', 'agusto', 'victorelli', 'garcilazo', 'zola', 'francois', \n",
    "        'justiniano', 'giacomo', 'fray', 'francois', 'george', 'judas', 'lizandro', 'thomas' 'elias', 'rembrandt', 'sergio',\n",
    "        'miro', 'hermilio', 'miguiel', 'edouard', 'roosevelt', 'gino', 'virrey', 'mark', 'thouars', 'alessandro',\n",
    "         'modigliani', 'kandisnki', 'ghandi', 'houssay', 'mondrian', 'bach', 'ritter', 'gluck', 'bunsen', 'figueredo',\n",
    "        'peña', 'augustin', 'leonidas', 'alipio', 'guadulfo'}\n",
    "\n",
    "f_add = {'edecia', 'sor', 'gallagher',  'clorinda', 'isolina', 'barrenechea', 'salaverry', 'arnaldo',\n",
    "        'thomas', 'perricholi', 'bastidas', 'elvira', 'melchorita', 'beatita', 'justa', 'sarita', \n",
    "         'ines', 'leonor', 'eleonor', 'meier' , 'marian', 'sarita', 'jhon'}\n",
    "\n",
    "hombres_adicional = {'tupac', 'manco', 'saenz', 'pancho', 'mariscal', 'general', 'comandante',\n",
    "                    'coronel', 'bartolome', 'almirante', 'lizardo', 'augustin', 'inca', 'marques',\n",
    "                    'vicealmirante', 'leonidas', 'capitan', 'garcillazo', 'abascal', 'joze', 'pachacutec',\n",
    "                    'capac', 'unanue', 'mariategui', 'vallejo', 'bondi', 'giuseppe', 'pachacutec',\n",
    "                    'yupanqui', 'almirante', 'leonidas', 'harold', 'bilinghurst', 'grau', 'cmdte.', 'cmdte',\n",
    "                    'leguia', 'bolognesi', 'arenales', 'salaverry', 'lizardo', 'vivaldi', 'francesco', 'james', \n",
    "                    'copernico', 'joseph', 'philipp', 'hans', 'pietro', 'rodin', 'pirandello', 'gaddi',\n",
    "                    'duccio', 'crepi', 'pissano', 'reni', 'renoir', 'augosto', 'toulousse', 'louis', 'benton', \n",
    "                    'zola', 'milet', 'velde', 'louis' 'benton','zola','milet','croix','sorolla','monet',\n",
    "                     'verrochio','cavallini', 'dyck', 'hadraza','bronzino', 'gogh', 'dore', 'crane', 'corot', \n",
    "                    'chardin', 'dominguez', 'astete', 'rousseau', 'greco', 'utrillo', 'correggio', 'veronesse',\n",
    "                    'tiepolo', 'botiger', 'rosetti', 'preising', 'bellman', 'schubert', 'bethoven', 'liszt',\n",
    "                    'schipper',  'brahams', 'verdi', 'paganini', 'hassinger', 'schrader', 'bosovich', \n",
    "                    'mascagni', 'barbieri', 'otto', 'mendelson', 'faure', 'puccini', 'strauss', 'delibes',\n",
    "                    'stravinsky',  'clodomiro', 'bernstein', 'toscanini', 'rubinstein', 'torroba', 'toselli', \n",
    "                    'scarlatti', 'tchaicovski', 'angelico', 'reynolds', 'donzetti', 'ravel', 'puccini', 'simmoni',\n",
    "                    'matier', 'neuhaus', 'becqier', 'torrigiano', 'frederic', 'pinerolo', 'sipan', 'armardo',\n",
    "                    'wolgfang', 'paganini', 'beethoven', 'claude', 'kandisky', 'claude', 'giuseppe', 'donatello',\n",
    "                    'otto', 'gasset', 'carlyle', 'calvino', 'paderewski', 'green', 'russel', 'hillman', 'adam', \n",
    "                     'monstequieu', 'spencer', 'hegel', 'diderot', 'engels', 'pascal', 'confusio', 'roentgen',\n",
    "                     'fisher', 'borges', 'paicioli', 'carpenter', 'fibacci', 'gorky', 'wide', 'cardich', 'goethe',\n",
    "                    'shakespeare', 'daudet', 'galdos', 'caceres', 'vasco', 'picasso', 'edison', 'goya', 'sinchi',\n",
    "                     'yahuar', 'ramsey', 'holbein', 'courbet', 'vinci', 'ghiberti', 'sanzio', 'barton', 'angelico',\n",
    "                     'prado', 'dulio'}\n",
    "\n",
    "f_adicional = {'ocllo', 'delmira', 'tita', 'pissarro', 'stowe', 'chabuca',  'emily', 'marie', 'keller',\n",
    "              'amarilis', }"
   ]
  },
  {
   "cell_type": "code",
   "execution_count": 5,
   "id": "4c27f1bc",
   "metadata": {},
   "outputs": [],
   "source": [
    "gdb = gpd.read_file(\"/Users/ccsuehara/Documents/Lima osm /lima_calles_clipped/lima_calles_clipped.shp\")"
   ]
  },
  {
   "cell_type": "code",
   "execution_count": 6,
   "id": "1811920f",
   "metadata": {},
   "outputs": [],
   "source": [
    "names = list(gdb.name.unique())"
   ]
  },
  {
   "cell_type": "code",
   "execution_count": 7,
   "id": "7cb5217f",
   "metadata": {},
   "outputs": [],
   "source": [
    "db_names = pd.DataFrame(columns = ['names'], data = names)\n",
    "db_names = db_names.loc[db_names['names'].notna() ].copy()"
   ]
  },
  {
   "cell_type": "code",
   "execution_count": 8,
   "id": "7808d4c5",
   "metadata": {},
   "outputs": [],
   "source": [
    "n_hombres = set_nombres('/Users/ccsuehara/GH folders/data_vizzes/genero_gabinete/data/hombres.csv')\n",
    "n_mujeres = set_nombres('/Users/ccsuehara/GH folders/data_vizzes/genero_gabinete/data/mujeres.csv')\n",
    "\n",
    "remove_mujeres = {'milagros', 'angeles', 'paz',  'abril', 'yuri', 'flor', 'alba'}\n",
    "\n",
    "n_mujeres = n_mujeres.difference(remove_mujeres)\n",
    "n_mujeres = n_mujeres.union(f_adicional)\n",
    "n_mujeres = n_mujeres.union(f_add)\n",
    "\n",
    "n_hombres = n_hombres.union(h_add)\n",
    "n_hombres = n_hombres.union(hombres_adicional)"
   ]
  },
  {
   "cell_type": "code",
   "execution_count": 9,
   "id": "898245cd",
   "metadata": {},
   "outputs": [],
   "source": [
    "db_names['clean_name'] = db_names['names'].apply(lambda x: clean_texts(x).split())"
   ]
  },
  {
   "cell_type": "code",
   "execution_count": 10,
   "id": "d52865ce",
   "metadata": {},
   "outputs": [],
   "source": [
    "a = list(db_names['clean_name'].sum())"
   ]
  },
  {
   "cell_type": "code",
   "execution_count": 11,
   "id": "d2a9b1c2",
   "metadata": {},
   "outputs": [],
   "source": [
    "from collections import Counter\n",
    "counts = Counter(a)\n"
   ]
  },
  {
   "cell_type": "code",
   "execution_count": 12,
   "id": "9d9df18d",
   "metadata": {},
   "outputs": [],
   "source": [
    "#sorted(counts.items(), key=lambda x: x[1], reverse=True)"
   ]
  },
  {
   "cell_type": "code",
   "execution_count": 13,
   "id": "0e761ff8",
   "metadata": {},
   "outputs": [],
   "source": [
    "remove = ['calle', 'jiron', 'pasaje', 'de', 'avenida', 'los', 'las', 'la', 'san', 'la', 'san', 'el', 'prolongacion',\n",
    "          'y', 'del']"
   ]
  },
  {
   "cell_type": "code",
   "execution_count": 14,
   "id": "9ef74303",
   "metadata": {},
   "outputs": [],
   "source": [
    "db_names['clean_name2'] = db_names['clean_name'].apply(lambda x: [ele for ele in x if ele not in remove])"
   ]
  },
  {
   "cell_type": "code",
   "execution_count": 15,
   "id": "0b0adc43",
   "metadata": {},
   "outputs": [],
   "source": [
    "db_names['genero'] = db_names['clean_name2'].apply(lambda x: pertenece_nombres(x,n_hombres, n_mujeres))"
   ]
  },
  {
   "cell_type": "code",
   "execution_count": 16,
   "id": "321906c3",
   "metadata": {},
   "outputs": [],
   "source": [
    "#print(*list(db_names.loc[db_names['genero'] == 'x']['clean_name2']), sep='\\n')\n"
   ]
  },
  {
   "cell_type": "code",
   "execution_count": 17,
   "id": "9be10e5a",
   "metadata": {},
   "outputs": [],
   "source": [
    "#print(*list(db_names.loc[db_names['genero'] == 'f'].names), sep = \"\\n\")\n"
   ]
  },
  {
   "cell_type": "code",
   "execution_count": 18,
   "id": "5f80b849",
   "metadata": {},
   "outputs": [],
   "source": [
    "#print(*list(db_names.loc[db_names['genero'] == 'm'].names), sep = \"\\n\")\n"
   ]
  },
  {
   "cell_type": "code",
   "execution_count": 19,
   "id": "cac80101",
   "metadata": {},
   "outputs": [
    {
     "data": {
      "text/plain": [
       "x    10093\n",
       "m     5142\n",
       "f      730\n",
       "Name: genero, dtype: int64"
      ]
     },
     "execution_count": 19,
     "metadata": {},
     "output_type": "execute_result"
    }
   ],
   "source": [
    "db_names['genero'].value_counts()"
   ]
  },
  {
   "cell_type": "code",
   "execution_count": 20,
   "id": "289ee36d",
   "metadata": {},
   "outputs": [],
   "source": [
    "gdb = gdb.merge(db_names, left_on = 'name', right_on = 'names', how = 'left', indicator = True)"
   ]
  },
  {
   "cell_type": "code",
   "execution_count": 21,
   "id": "79f1b3dd",
   "metadata": {},
   "outputs": [],
   "source": [
    "gdb.loc[gdb._merge == 'left_only', 'genero'] = 'x'"
   ]
  },
  {
   "cell_type": "code",
   "execution_count": 22,
   "id": "fc8121bb-c4bc-4b27-a890-2a4e84a5c44e",
   "metadata": {},
   "outputs": [
    {
     "data": {
      "text/plain": [
       "x    133488\n",
       "m     14216\n",
       "f      1970\n",
       "Name: genero, dtype: int64"
      ]
     },
     "execution_count": 22,
     "metadata": {},
     "output_type": "execute_result"
    }
   ],
   "source": [
    "gdb.genero.value_counts()"
   ]
  },
  {
   "cell_type": "code",
   "execution_count": 23,
   "id": "af3116bc-98f4-4f63-a0d2-3cea4aafe095",
   "metadata": {},
   "outputs": [
    {
     "data": {
      "text/plain": [
       "x    133488\n",
       "m     14216\n",
       "f      1970\n",
       "Name: genero, dtype: int64"
      ]
     },
     "execution_count": 23,
     "metadata": {},
     "output_type": "execute_result"
    }
   ],
   "source": [
    "gdb.genero.value_counts()"
   ]
  },
  {
   "cell_type": "code",
   "execution_count": 25,
   "id": "aad8ee72",
   "metadata": {},
   "outputs": [],
   "source": [
    "gdb_male = gdb.loc[gdb.genero == 'm']\n",
    "#gdb_male.to_csv('./data/gdb_males22.csv')\n",
    "\n",
    "gdb_female = gdb.loc[gdb.genero == 'f']\n",
    "#gdb_female.to_csv('./data/gdb_females22.csv')\n",
    "\n",
    "gdb_not = gdb.loc[gdb.genero == 'x']\n",
    "#gdb_not.to_csv('./data/gdb_not22.csv')"
   ]
  },
  {
   "cell_type": "code",
   "execution_count": 26,
   "id": "e6bc177d-5ab9-4512-a197-c2f0ce1787a2",
   "metadata": {},
   "outputs": [],
   "source": [
    "gdb_male = gdb_male.drop(['_merge'], axis=1)"
   ]
  },
  {
   "cell_type": "code",
   "execution_count": 29,
   "id": "e3c08192-98f6-403c-8c35-1dfac78a444b",
   "metadata": {},
   "outputs": [],
   "source": [
    "#gdb_male.set_crs = 'epsg:4326'\n",
    "#gdb_male.to_file(\"./data/gdb_males22.shp\")\n",
    "#nofunciona porque tiene listas"
   ]
  },
  {
   "cell_type": "code",
   "execution_count": null,
   "id": "ded10e5a-6aaa-4f89-bd2c-56ed47e9580d",
   "metadata": {},
   "outputs": [],
   "source": []
  },
  {
   "cell_type": "code",
   "execution_count": 38,
   "id": "11dc8b57",
   "metadata": {},
   "outputs": [],
   "source": [
    "lima_map = alt.Chart(gdb\n",
    "          , height = 800, width = 1000).mark_geoshape().encode(\n",
    "    color = alt.Color('genero')).properties(\n",
    "    title={ \"text\" : \"Lima\",\n",
    "      \"subtitle\": [\"Calles según género del nombre\", \n",
    "                   \"Fuente: Open Street Maps\"],\n",
    "      \"color\": \"Black\",\n",
    "      \"subtitleColor\": \"Black\"\n",
    "    }) "
   ]
  },
  {
   "cell_type": "code",
   "execution_count": 34,
   "id": "cc6665a7",
   "metadata": {},
   "outputs": [],
   "source": [
    "del gdb_female, gdb_not, gdb_male"
   ]
  },
  {
   "cell_type": "code",
   "execution_count": 7,
   "id": "bca74078",
   "metadata": {},
   "outputs": [],
   "source": [
    "path = \"/Users/ccsuehara/Downloads/lima_boundaries_shp/clipping_boundary.geojson\"\n",
    "\n",
    "\n",
    "clip = gpd.read_file(path)\n",
    "bound = clip.geometry.iloc[0]\n"
   ]
  },
  {
   "cell_type": "code",
   "execution_count": 9,
   "id": "98be71b4",
   "metadata": {},
   "outputs": [],
   "source": [
    "# gDrive = ox.graph_from_polygon(bound, network_type= 'all')\n",
    "# gDrive = ox.project_graph(gDrive, to_crs='epsg:4326')"
   ]
  },
  {
   "cell_type": "code",
   "execution_count": 10,
   "id": "22d77980",
   "metadata": {},
   "outputs": [
    {
     "name": "stderr",
     "output_type": "stream",
     "text": [
      "/Users/ccsuehara/opt/anaconda3/envs/ejemplos_h3/lib/python3.7/site-packages/pyproj/crs/crs.py:53: FutureWarning: '+init=<authority>:<code>' syntax is deprecated. '<authority>:<code>' is the preferred initialization method. When making the change, be mindful of axis order changes: https://pyproj4.github.io/pyproj/stable/gotchas.html#axis-order-changes-in-proj-6\n",
      "  return _prepare_from_string(\" \".join(pjargs))\n"
     ]
    }
   ],
   "source": [
    "# edges = gn.edge_gdf_from_graph(gDrive)"
   ]
  },
  {
   "cell_type": "code",
   "execution_count": 16,
   "id": "8fb121eb",
   "metadata": {},
   "outputs": [],
   "source": [
    "# lima_roads = edges[['name', 'geometry', 'length', 'maxspeed']]"
   ]
  },
  {
   "cell_type": "code",
   "execution_count": 42,
   "id": "a990fd76",
   "metadata": {},
   "outputs": [
    {
     "data": {
      "text/plain": [
       "(117798, 20)"
      ]
     },
     "execution_count": 42,
     "metadata": {},
     "output_type": "execute_result"
    }
   ],
   "source": [
    "# gdb.shape"
   ]
  },
  {
   "cell_type": "code",
   "execution_count": 27,
   "id": "3000cee9",
   "metadata": {},
   "outputs": [
    {
     "data": {
      "text/plain": [
       "22"
      ]
     },
     "execution_count": 27,
     "metadata": {},
     "output_type": "execute_result"
    }
   ],
   "source": [
    "220005 // 10000"
   ]
  },
  {
   "cell_type": "code",
   "execution_count": null,
   "id": "6b1cad13-2f43-42f3-91cc-e5a6ee76e7ac",
   "metadata": {},
   "outputs": [],
   "source": []
  }
 ],
 "metadata": {
  "kernelspec": {
   "display_name": "Python 3 (ipykernel)",
   "language": "python",
   "name": "python3"
  },
  "language_info": {
   "codemirror_mode": {
    "name": "ipython",
    "version": 3
   },
   "file_extension": ".py",
   "mimetype": "text/x-python",
   "name": "python",
   "nbconvert_exporter": "python",
   "pygments_lexer": "ipython3",
   "version": "3.8.12"
  }
 },
 "nbformat": 4,
 "nbformat_minor": 5
}
