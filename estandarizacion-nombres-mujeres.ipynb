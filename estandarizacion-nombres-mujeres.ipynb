{
 "cells": [
  {
   "cell_type": "code",
   "execution_count": 1,
   "id": "6fbdb936",
   "metadata": {},
   "outputs": [],
   "source": [
    "import pandas as pd\n",
    "import json"
   ]
  },
  {
   "cell_type": "code",
   "execution_count": 2,
   "id": "14ddb33e",
   "metadata": {},
   "outputs": [],
   "source": [
    "file = 'gdb_females.csv'"
   ]
  },
  {
   "cell_type": "code",
   "execution_count": 3,
   "id": "9f5b3f01",
   "metadata": {},
   "outputs": [],
   "source": [
    "df = pd.read_csv(file, encoding='utf-8')"
   ]
  },
  {
   "cell_type": "code",
   "execution_count": 4,
   "id": "1b825114",
   "metadata": {},
   "outputs": [
    {
     "data": {
      "text/plain": [
       "1970"
      ]
     },
     "execution_count": 4,
     "metadata": {},
     "output_type": "execute_result"
    }
   ],
   "source": [
    "len(df)"
   ]
  },
  {
   "cell_type": "code",
   "execution_count": 5,
   "id": "18c5b951",
   "metadata": {},
   "outputs": [],
   "source": [
    "df['clean_name3'] = df['clean_name2'].apply(lambda x: x.replace('[', '').replace(']', '').replace(\"'\", \"\").replace(', ', ' '))"
   ]
  },
  {
   "cell_type": "code",
   "execution_count": 6,
   "id": "d64e3b88",
   "metadata": {},
   "outputs": [],
   "source": [
    "iguales = {\n",
    "    'santa rosa': ['santa rosa lima',\n",
    "                   'santa rosa (auxiliar)',\n",
    "                   'rosa america'],\n",
    "    'santa maria angeles': ['maria angeles'],\n",
    "    'micaela bastidas': ['bastidas',\n",
    "                         'malecon bastidas'],\n",
    "    'santa maria': ['santa maria reyna',\n",
    "                    'santa maria reina',\n",
    "                    'maria auxiliadora'],\n",
    "    'clorinda matto turner': ['clorinda malto'],\n",
    "    'santa teresa': ['santa teresa (calle 8)'],\n",
    "    'santa ana': ['santa anita'],\n",
    "    'elvira garcia garcia': ['alameda elvira garcia garcia',\n",
    "                             'elvira garcia gracia'],\n",
    "    'angelica gamarra': ['salida a angelica gamarra']\n",
    "}"
   ]
  },
  {
   "cell_type": "code",
   "execution_count": 7,
   "id": "a3eef0fb",
   "metadata": {},
   "outputs": [],
   "source": [
    "no_mujeres = [\n",
    "    'libertad',\n",
    "    'marina',\n",
    "    'tingo maria',\n",
    "    'belen',\n",
    "    'merced',\n",
    "    'esperanza',\n",
    "    'victoria',\n",
    "    'esmeralda',\n",
    "    'rio santa',\n",
    "    'arnaldo marquez',\n",
    "    'santa fe',\n",
    "    'agua marina',\n",
    "    'irlanda',\n",
    "    'mar coral',\n",
    "    'marbella',\n",
    "    'nueva esperanza',\n",
    "    'bajada agua dulce',\n",
    "    'mercedes',\n",
    "    'malecon marina',\n",
    "    'alameda arco iris',\n",
    "    'caridad',\n",
    "    'villa mercedes',\n",
    "    'alheli',\n",
    "    'soledad',\n",
    "    'grecia',\n",
    "    'nevado sara sara',\n",
    "    'santa',\n",
    "    'iris',\n",
    "    'amarilis',\n",
    "    'america',\n",
    "    'marina (auxiliar)',\n",
    "    'florencia',\n",
    "    'villa maria',\n",
    "    'estrella',\n",
    "    'lourdes',\n",
    "    'nieves',\n",
    "    'azucena',\n",
    "    'perla',\n",
    "    'merino reyna',\n",
    "    'rio santa martha',\n",
    "    'rio elba',\n",
    "    'cielo punko',\n",
    "    'talavera reina',\n",
    "    'agua dulce',\n",
    "    'cristal'\n",
    "]"
   ]
  },
  {
   "cell_type": "code",
   "execution_count": 8,
   "id": "9146fa12",
   "metadata": {},
   "outputs": [],
   "source": [
    "df2 = df[~df['clean_name3'].isin(no_mujeres)].reset_index(drop=True)"
   ]
  },
  {
   "cell_type": "code",
   "execution_count": 9,
   "id": "dfda178a",
   "metadata": {},
   "outputs": [],
   "source": [
    "iguales2 = {}\n",
    "for key, lst in iguales.items():\n",
    "    for item in lst:\n",
    "        iguales2[item] = key"
   ]
  },
  {
   "cell_type": "code",
   "execution_count": 10,
   "id": "9003c2e2",
   "metadata": {},
   "outputs": [],
   "source": [
    "df2['clean_name3'] = df2['clean_name3'].replace(iguales2)"
   ]
  },
  {
   "cell_type": "code",
   "execution_count": 11,
   "id": "f6e46610",
   "metadata": {},
   "outputs": [],
   "source": [
    "tabulacion = df2['clean_name3'].value_counts()"
   ]
  },
  {
   "cell_type": "code",
   "execution_count": 12,
   "id": "4a7519d6",
   "metadata": {},
   "outputs": [],
   "source": [
    "tabulacion = tabulacion.reset_index().rename(columns={'clean_name3': 'total', 'index': 'nombre'})"
   ]
  },
  {
   "cell_type": "code",
   "execution_count": 13,
   "id": "04779dff",
   "metadata": {},
   "outputs": [],
   "source": [
    "tabulacion.to_csv('tabulacion_nombres_mujeres.csv', index=False, encoding='utf-8')"
   ]
  },
  {
   "cell_type": "code",
   "execution_count": 14,
   "id": "7d9bbf80",
   "metadata": {},
   "outputs": [],
   "source": [
    "def nombre_santa(text):\n",
    "    \n",
    "    if text[:6] == 'santa ' or text[:4] == 'sor ' or text[:7] == 'virgen ':\n",
    "        return 'santa'\n",
    "    else:\n",
    "        return 'no santa'"
   ]
  },
  {
   "cell_type": "code",
   "execution_count": 15,
   "id": "443025cb",
   "metadata": {},
   "outputs": [],
   "source": [
    "tabulacion['santa'] = tabulacion['nombre'].apply(nombre_santa)"
   ]
  },
  {
   "cell_type": "code",
   "execution_count": 16,
   "id": "7c06bca0",
   "metadata": {},
   "outputs": [],
   "source": [
    "tabulacion2 = tabulacion['santa'].value_counts().reset_index().rename(columns={'santa': 'total', 'index': 'categoria'})"
   ]
  },
  {
   "cell_type": "code",
   "execution_count": 17,
   "id": "a1c34894",
   "metadata": {},
   "outputs": [],
   "source": [
    "tabulacion2.to_csv('tabulacion_nombres_hombres_santas.csv', index=False, encoding='utf-8')"
   ]
  }
 ],
 "metadata": {
  "kernelspec": {
   "display_name": "Python 3 (ipykernel)",
   "language": "python",
   "name": "python3"
  },
  "language_info": {
   "codemirror_mode": {
    "name": "ipython",
    "version": 3
   },
   "file_extension": ".py",
   "mimetype": "text/x-python",
   "name": "python",
   "nbconvert_exporter": "python",
   "pygments_lexer": "ipython3",
   "version": "3.8.12"
  }
 },
 "nbformat": 4,
 "nbformat_minor": 5
}
