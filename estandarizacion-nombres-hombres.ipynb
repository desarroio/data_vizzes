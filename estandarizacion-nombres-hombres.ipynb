{
 "cells": [
  {
   "cell_type": "code",
   "execution_count": 1,
   "id": "6fbdb936",
   "metadata": {},
   "outputs": [],
   "source": [
    "import pandas as pd\n",
    "import json"
   ]
  },
  {
   "cell_type": "code",
   "execution_count": 2,
   "id": "14ddb33e",
   "metadata": {},
   "outputs": [],
   "source": [
    "file = 'gdb_males.csv'"
   ]
  },
  {
   "cell_type": "code",
   "execution_count": 3,
   "id": "9f5b3f01",
   "metadata": {},
   "outputs": [],
   "source": [
    "df = pd.read_csv(file, encoding='utf-8')"
   ]
  },
  {
   "cell_type": "code",
   "execution_count": 4,
   "id": "1b825114",
   "metadata": {},
   "outputs": [
    {
     "data": {
      "text/plain": [
       "14216"
      ]
     },
     "execution_count": 4,
     "metadata": {},
     "output_type": "execute_result"
    }
   ],
   "source": [
    "len(df)"
   ]
  },
  {
   "cell_type": "code",
   "execution_count": 5,
   "id": "18c5b951",
   "metadata": {},
   "outputs": [],
   "source": [
    "df['clean_name3'] = df['clean_name'].apply(lambda x: x.replace('[', '').replace(']', '').replace(\"'\", \"\").replace(', ', ' '))"
   ]
  },
  {
   "cell_type": "code",
   "execution_count": 6,
   "id": "a09c86d3",
   "metadata": {},
   "outputs": [],
   "source": [
    "def remove_words(text, words):\n",
    "\n",
    "    text = text.split()\n",
    "    rv = []\n",
    "    for word in text:\n",
    "        if word not in words:\n",
    "            rv.append(word)\n",
    "    \n",
    "    return ' '.join(rv)"
   ]
  },
  {
   "cell_type": "code",
   "execution_count": 7,
   "id": "6523839a",
   "metadata": {},
   "outputs": [],
   "source": [
    "remove = ['calle', 'jiron', 'pasaje', 'de', 'avenida', 'los', 'las', 'la', 'el', 'prolongacion',\n",
    "          'y', 'del', 'alameda', 'este', 'oeste', 'malecon', 'parque', 'bajada', 'plaza' ,'tunel', 'puente', 'municipal']"
   ]
  },
  {
   "cell_type": "code",
   "execution_count": 8,
   "id": "312cb4a9",
   "metadata": {},
   "outputs": [],
   "source": [
    "df['clean_name4'] = df['clean_name3'].apply(lambda x: remove_words(x, remove))"
   ]
  },
  {
   "cell_type": "code",
   "execution_count": 9,
   "id": "d64e3b88",
   "metadata": {},
   "outputs": [],
   "source": [
    "iguales = {\n",
    "    'miguel grau': ['almirante miguel grau',\n",
    "                    'via expresa almirante miguel grau',\n",
    "                    'grau'],\n",
    "    'ramon castilla': ['mariscal ramon castilla'],\n",
    "    'nestor gambetta': ['coronel nestor gambetta'],\n",
    "    'luis fernan bedoya reyes': ['via expresa luis fernan bedoya reyes'],\n",
    "    'pastor sevilla': ['ciclovia pastor sevilla'],\n",
    "    'ramiro priale': ['autopista ramiro priale'],\n",
    "    'velazco astete': ['velasco astete'],\n",
    "    'jose mar': ['mariscal mar'],\n",
    "    'agustin gamarra': ['mariscal agustin gamarra'],\n",
    "    'jose san martin': ['san martin',\n",
    "                        'general jose san martin'],\n",
    "    'san martin porres': ['misionero san martin',\n",
    "                          'san martin porras']\n",
    "}"
   ]
  },
  {
   "cell_type": "code",
   "execution_count": 10,
   "id": "a3eef0fb",
   "metadata": {},
   "outputs": [],
   "source": [
    "no_hombres = [\n",
    "    '28 julio',\n",
    "    'loreto',\n",
    "    'caminos inca',\n",
    "    'virgen carmen',\n",
    "    'santa isabel',\n",
    "    'carmen',\n",
    "    '15 julio',\n",
    "    'isabel chimpu ocllo',\n",
    "    'isabel catolica',\n",
    "    'j',\n",
    "    'salvador',\n",
    "    'cruz'\n",
    "]"
   ]
  },
  {
   "cell_type": "code",
   "execution_count": 11,
   "id": "38f0af7f",
   "metadata": {},
   "outputs": [],
   "source": [
    "df2 = df[~df['clean_name4'].isin(no_hombres)].reset_index(drop=True)"
   ]
  },
  {
   "cell_type": "code",
   "execution_count": 12,
   "id": "a41aa4e3",
   "metadata": {},
   "outputs": [],
   "source": [
    "iguales2 = {}\n",
    "for key, lst in iguales.items():\n",
    "    for item in lst:\n",
    "        iguales2[item] = key"
   ]
  },
  {
   "cell_type": "code",
   "execution_count": 13,
   "id": "17ac122b",
   "metadata": {},
   "outputs": [],
   "source": [
    "df2['clean_name4'] = df2['clean_name4'].replace(iguales2)"
   ]
  },
  {
   "cell_type": "code",
   "execution_count": 14,
   "id": "f6e46610",
   "metadata": {},
   "outputs": [],
   "source": [
    "tabulacion = df2['clean_name4'].value_counts()"
   ]
  },
  {
   "cell_type": "code",
   "execution_count": 15,
   "id": "4a7519d6",
   "metadata": {},
   "outputs": [],
   "source": [
    "tabulacion = tabulacion.reset_index().rename(columns={'clean_name4': 'total', 'index': 'nombre'})"
   ]
  },
  {
   "cell_type": "code",
   "execution_count": 16,
   "id": "04779dff",
   "metadata": {},
   "outputs": [],
   "source": [
    "tabulacion.to_csv('tabulacion_nombres_hombres.csv', index=False, encoding='utf-8')"
   ]
  },
  {
   "cell_type": "code",
   "execution_count": 17,
   "id": "50bc8cef",
   "metadata": {},
   "outputs": [],
   "source": [
    "def nombre_santo(text):\n",
    "    \n",
    "    if text[:4] == 'san ' or text[:6] == 'santo ':\n",
    "        return 'santo'\n",
    "    else:\n",
    "        return 'no santo'"
   ]
  },
  {
   "cell_type": "code",
   "execution_count": 18,
   "id": "f0c9a196",
   "metadata": {},
   "outputs": [],
   "source": [
    "tabulacion['santo'] = tabulacion['nombre'].apply(nombre_santo)"
   ]
  },
  {
   "cell_type": "code",
   "execution_count": 19,
   "id": "c44e0ce1",
   "metadata": {},
   "outputs": [],
   "source": [
    "tabulacion2 = tabulacion['santo'].value_counts().reset_index().rename(columns={'santo': 'total', 'index': 'categoria'})"
   ]
  },
  {
   "cell_type": "code",
   "execution_count": 20,
   "id": "1cbbbc25",
   "metadata": {},
   "outputs": [],
   "source": [
    "tabulacion2.to_csv('tabulacion_nombres_hombres_santos.csv', index=False, encoding='utf-8')"
   ]
  }
 ],
 "metadata": {
  "kernelspec": {
   "display_name": "Python 3 (ipykernel)",
   "language": "python",
   "name": "python3"
  },
  "language_info": {
   "codemirror_mode": {
    "name": "ipython",
    "version": 3
   },
   "file_extension": ".py",
   "mimetype": "text/x-python",
   "name": "python",
   "nbconvert_exporter": "python",
   "pygments_lexer": "ipython3",
   "version": "3.8.12"
  }
 },
 "nbformat": 4,
 "nbformat_minor": 5
}
